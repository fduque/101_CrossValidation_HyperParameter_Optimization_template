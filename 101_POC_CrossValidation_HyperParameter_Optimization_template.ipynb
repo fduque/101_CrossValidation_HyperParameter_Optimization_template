{
  "nbformat": 4,
  "nbformat_minor": 0,
  "metadata": {
    "colab": {
      "name": "101_POC_CrossValidation_HyperParameter_Optimization_template.ipynb",
      "provenance": [],
      "collapsed_sections": [],
      "authorship_tag": "ABX9TyPJ/wFu2XmwpEIpPgP4393E"
    },
    "kernelspec": {
      "name": "python3",
      "display_name": "Python 3"
    }
  },
  "cells": [
    {
      "cell_type": "markdown",
      "metadata": {
        "id": "lvXB4zKAiCUK",
        "colab_type": "text"
      },
      "source": [
        "# Using KNN and RFC to predict Wine Quality.\n",
        "\n",
        "Project made just for POC purposes.\n",
        "\n",
        "Steps deployed:\n",
        "1.   Train KNN model\n",
        "2.   Train RFC model\n",
        "3.   Apply Cross Validation (using accuracy metric)\n",
        "4.   Tunning some parameters using GridSearCV (using Accuracy metric)\n",
        "5.   Comparing the gains after tunning phase using Acurracy Score."
      ]
    },
    {
      "cell_type": "code",
      "metadata": {
        "id": "OGfi11yERUvv",
        "colab_type": "code",
        "colab": {}
      },
      "source": [
        "from sklearn.datasets import load_wine\n",
        "wine = load_wine()"
      ],
      "execution_count": 115,
      "outputs": []
    },
    {
      "cell_type": "code",
      "metadata": {
        "id": "4K9jnlb6SV0-",
        "colab_type": "code",
        "colab": {}
      },
      "source": [
        "X = wine.data[:,:]\n",
        "y = wine.target"
      ],
      "execution_count": 116,
      "outputs": []
    },
    {
      "cell_type": "code",
      "metadata": {
        "id": "Pt8sOpEoSoEr",
        "colab_type": "code",
        "colab": {}
      },
      "source": [
        "#split train - test dataset\n",
        "from sklearn.model_selection import train_test_split \n",
        "#splitting and setting 20% data as a test\n",
        "X_train, X_test, y_train, y_test = train_test_split(X,y, test_size=0.30,random_state=0) "
      ],
      "execution_count": 117,
      "outputs": []
    },
    {
      "cell_type": "markdown",
      "metadata": {
        "id": "mg3SZMKEUbyg",
        "colab_type": "text"
      },
      "source": [
        "# 1 - Random Forest"
      ]
    },
    {
      "cell_type": "code",
      "metadata": {
        "id": "rLmQeN2VSxSC",
        "colab_type": "code",
        "colab": {}
      },
      "source": [
        "#applygin random forest mdel\n",
        "\n",
        "from sklearn.ensemble import RandomForestClassifier\n",
        "clf_rfc = RandomForestClassifier()\n",
        "clf_rfc.fit(X_train, y_train)\n",
        "y_pred = clf_rfc.predict(X_test)"
      ],
      "execution_count": 118,
      "outputs": []
    },
    {
      "cell_type": "code",
      "metadata": {
        "id": "i4RiXsXFS2Cy",
        "colab_type": "code",
        "colab": {
          "base_uri": "https://localhost:8080/",
          "height": 202
        },
        "outputId": "9ec53cf1-ded4-41b6-8844-301c7ee31c7d"
      },
      "source": [
        "from sklearn.metrics import classification_report, confusion_matrix\n",
        "print(classification_report(y_test, y_pred))\n",
        "rfc_accuray = accuracy_score(y_test, y_pred)\n",
        "print(rfc_accuray)"
      ],
      "execution_count": 119,
      "outputs": [
        {
          "output_type": "stream",
          "text": [
            "              precision    recall  f1-score   support\n",
            "\n",
            "           0       1.00      1.00      1.00        19\n",
            "           1       1.00      0.95      0.98        22\n",
            "           2       0.93      1.00      0.96        13\n",
            "\n",
            "    accuracy                           0.98        54\n",
            "   macro avg       0.98      0.98      0.98        54\n",
            "weighted avg       0.98      0.98      0.98        54\n",
            "\n",
            "0.9814814814814815\n"
          ],
          "name": "stdout"
        }
      ]
    },
    {
      "cell_type": "markdown",
      "metadata": {
        "id": "eGjnHkliUjn0",
        "colab_type": "text"
      },
      "source": [
        "# 2 - KNN"
      ]
    },
    {
      "cell_type": "code",
      "metadata": {
        "id": "nOsGBxiVUiY0",
        "colab_type": "code",
        "colab": {
          "base_uri": "https://localhost:8080/",
          "height": 67
        },
        "outputId": "f0058e9d-3764-4aeb-97c3-e02be439aa8a"
      },
      "source": [
        "#trainning the model\n",
        "from sklearn.neighbors import KNeighborsClassifier\n",
        "clf_knn = KNeighborsClassifier(n_neighbors=3)\n",
        "clf_knn.fit(X_train, y_train) "
      ],
      "execution_count": 120,
      "outputs": [
        {
          "output_type": "execute_result",
          "data": {
            "text/plain": [
              "KNeighborsClassifier(algorithm='auto', leaf_size=30, metric='minkowski',\n",
              "                     metric_params=None, n_jobs=None, n_neighbors=3, p=2,\n",
              "                     weights='uniform')"
            ]
          },
          "metadata": {
            "tags": []
          },
          "execution_count": 120
        }
      ]
    },
    {
      "cell_type": "code",
      "metadata": {
        "id": "ZonUAsfxU4Pr",
        "colab_type": "code",
        "colab": {}
      },
      "source": [
        "#doing some prediction\n",
        "y_pred = clf_knn.predict(X_test)"
      ],
      "execution_count": 121,
      "outputs": []
    },
    {
      "cell_type": "code",
      "metadata": {
        "id": "PtBbsf2DUxh0",
        "colab_type": "code",
        "colab": {
          "base_uri": "https://localhost:8080/",
          "height": 202
        },
        "outputId": "8f46b0c1-1d03-4bb6-8a74-58cbb2a3e5a8"
      },
      "source": [
        "from sklearn.metrics import classification_report, confusion_matrix, accuracy_score\n",
        "print(classification_report(y_test, y_pred))\n",
        "knn_accuray = accuracy_score(y_test, y_pred)\n",
        "print(knn_accuray)"
      ],
      "execution_count": 122,
      "outputs": [
        {
          "output_type": "stream",
          "text": [
            "              precision    recall  f1-score   support\n",
            "\n",
            "           0       0.73      0.84      0.78        19\n",
            "           1       0.75      0.82      0.78        22\n",
            "           2       0.50      0.31      0.38        13\n",
            "\n",
            "    accuracy                           0.70        54\n",
            "   macro avg       0.66      0.66      0.65        54\n",
            "weighted avg       0.68      0.70      0.69        54\n",
            "\n",
            "0.7037037037037037\n"
          ],
          "name": "stdout"
        }
      ]
    },
    {
      "cell_type": "markdown",
      "metadata": {
        "id": "hCJG6KpF5DFs",
        "colab_type": "text"
      },
      "source": [
        "# 3 -  Cross Validation (Using Accuracy Metric)"
      ]
    },
    {
      "cell_type": "code",
      "metadata": {
        "id": "CZXUbWW0TaGZ",
        "colab_type": "code",
        "colab": {
          "base_uri": "https://localhost:8080/",
          "height": 50
        },
        "outputId": "b4e4705b-1ef3-4bab-dd92-19422d84c41c"
      },
      "source": [
        "from sklearn.model_selection import cross_val_score\n",
        "cv_rfc = cross_val_score(clf_rfc,X,y,scoring='accuracy')\n",
        "cv_knn = cross_val_score(clf_knn,X,y,scoring='accuracy')\n",
        "print(\"\\nCross Validation: {0} vs {1}\".format(cv_knn,cv_rfc))"
      ],
      "execution_count": 123,
      "outputs": [
        {
          "output_type": "stream",
          "text": [
            "\n",
            "Cross Validation: [0.63888889 0.69444444 0.66666667 0.65714286 0.85714286] vs [0.97222222 0.94444444 0.97222222 0.97142857 1.        ]\n"
          ],
          "name": "stdout"
        }
      ]
    },
    {
      "cell_type": "code",
      "metadata": {
        "id": "HLGB9u3SVNOD",
        "colab_type": "code",
        "colab": {
          "base_uri": "https://localhost:8080/",
          "height": 84
        },
        "outputId": "1a3d6446-0b24-4be2-c102-c3799f95f57d"
      },
      "source": [
        "#average score cross model\n",
        "import numpy as np\n",
        "print(\"\\nCross Validation KNN AVG SCORE = \" ,np.average(cv_knn))\n",
        "print(\"\\nCross Validation RANDOM FOREST AVG SCORE = \",np.average(cv_rfc))"
      ],
      "execution_count": 124,
      "outputs": [
        {
          "output_type": "stream",
          "text": [
            "\n",
            "Cross Validation KNN AVG SCORE =  0.7028571428571428\n",
            "\n",
            "Cross Validation RANDOM FOREST AVG SCORE =  0.9720634920634922\n"
          ],
          "name": "stdout"
        }
      ]
    },
    {
      "cell_type": "markdown",
      "metadata": {
        "id": "uR5jq9lzWfwz",
        "colab_type": "text"
      },
      "source": [
        "# 4 - Optimizing Hyperparameters with GridSearchCV (Brute force + cross validation)"
      ]
    },
    {
      "cell_type": "code",
      "metadata": {
        "id": "cdAiS0yDVp2n",
        "colab_type": "code",
        "colab": {}
      },
      "source": [
        "from sklearn.model_selection import GridSearchCV"
      ],
      "execution_count": 125,
      "outputs": []
    },
    {
      "cell_type": "code",
      "metadata": {
        "id": "-iJe_S8rW7t7",
        "colab_type": "code",
        "colab": {
          "base_uri": "https://localhost:8080/",
          "height": 67
        },
        "outputId": "b644b264-0deb-445b-e77c-fee3cfc54078"
      },
      "source": [
        "#ramdom forest\n",
        "#parameter to be optimized\n",
        "parameters = {'min_samples_split' : (2,6), 'random_state': (0,42)}\n",
        "rfc_hps = GridSearchCV(clf_rfc,parameters,scoring='accuracy')\n",
        "rfc_hps.fit(X,y)\n",
        "print(\"Best value for min_samples_split parameter is = \", rfc_hps.best_params_['min_samples_split'])\n",
        "print(\"Best value for min_samples_split parameter is = \", rfc_hps.best_params_['random_state'])\n",
        "rfc_hps.best_score_"
      ],
      "execution_count": 126,
      "outputs": [
        {
          "output_type": "stream",
          "text": [
            "Best value for min_samples_split parameter is =  2\n",
            "Best value for min_samples_split parameter is =  0\n"
          ],
          "name": "stdout"
        },
        {
          "output_type": "execute_result",
          "data": {
            "text/plain": [
              "0.9833333333333332"
            ]
          },
          "metadata": {
            "tags": []
          },
          "execution_count": 126
        }
      ]
    },
    {
      "cell_type": "code",
      "metadata": {
        "id": "GyoV7ZVIXx5J",
        "colab_type": "code",
        "colab": {
          "base_uri": "https://localhost:8080/",
          "height": 50
        },
        "outputId": "9123af00-3098-40bd-f368-b96a65dc9284"
      },
      "source": [
        "#knn\n",
        "#parameter to be optimized\n",
        "parameters = {'n_neighbors' : (1,20)}\n",
        "knn_hps = GridSearchCV(clf_knn,parameters,scoring='accuracy')\n",
        "knn_hps.fit(X,y)\n",
        "print(\"Best value for n_neighbors parameter is = \", knn_hps.best_params_['n_neighbors'])\n",
        "knn_hps.best_score_"
      ],
      "execution_count": 127,
      "outputs": [
        {
          "output_type": "stream",
          "text": [
            "Best value for n_neighbors parameter is =  1\n"
          ],
          "name": "stdout"
        },
        {
          "output_type": "execute_result",
          "data": {
            "text/plain": [
              "0.7250793650793651"
            ]
          },
          "metadata": {
            "tags": []
          },
          "execution_count": 127
        }
      ]
    },
    {
      "cell_type": "markdown",
      "metadata": {
        "id": "Ofhg79B35VTo",
        "colab_type": "text"
      },
      "source": [
        "# 5 - Result - Score gain after Hyper Optimization"
      ]
    },
    {
      "cell_type": "code",
      "metadata": {
        "id": "IT3Ep7TLYXBT",
        "colab_type": "code",
        "colab": {
          "base_uri": "https://localhost:8080/",
          "height": 50
        },
        "outputId": "e4c2e794-7a8f-4eeb-bf2b-5d8676c9039a"
      },
      "source": [
        "print(\"Model 1 - Random Forest - Score (Accuracy before vs Accuracy after) :\", round(rfc_accuray,4), round(rfc_hps.best_score_,4) )\n",
        "print(\"Model 2 - KNN - Score (before vs after) :\", round(knn_accuray,4), round(knn_hps.best_score_,4) )"
      ],
      "execution_count": 128,
      "outputs": [
        {
          "output_type": "stream",
          "text": [
            "Model 1 - Random Forest - Score (Accuracy before vs Accuracy after) : 0.9815 0.9833\n",
            "Model 2 - KNN - Score (before vs after) : 0.7037 0.7251\n"
          ],
          "name": "stdout"
        }
      ]
    }
  ]
}